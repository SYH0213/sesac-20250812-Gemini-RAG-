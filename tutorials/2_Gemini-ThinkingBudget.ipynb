{
 "cells": [
  {
   "cell_type": "code",
   "execution_count": null,
   "id": "ad5a6489",
   "metadata": {},
   "outputs": [],
   "source": [
    "import os\n",
    "\n",
    "api_key = os.getenv(\"GOOGLE_API_KEY\")"
   ]
  },
  {
   "cell_type": "markdown",
   "id": "e5c03759",
   "metadata": {},
   "source": [
    "### Gemini Thinking"
   ]
  },
  {
   "cell_type": "code",
   "execution_count": null,
   "id": "64ecc919",
   "metadata": {},
   "outputs": [
    {
     "name": "stdout",
     "output_type": "stream",
     "text": [
      "현재까지 전 세계에서 가장 많이 팔린 게임은 **마인크래프트(Minecraft)**입니다.\n",
      "\n",
      "2023년 말 기준으로 **3억 장 이상**의 판매량을 기록하며 압도적인 1위를 차지하고 있습니다. 모든 연령대에서 사랑받는 높은 자유도와 창의성 덕분에 꾸준히 판매량이 늘고 있습니다.\n",
      "\n",
      "참고로 역대 비디오 게임 판매량 순위는 다음과 같습니다.\n",
      "\n",
      "1.  **마인크래프트 (Minecraft)** - 3억 장 이상\n",
      "2.  **Grand Theft Auto V (GTA V)** - 약 1억 9,500만 장 이상\n",
      "3.  **테트리스 (EA 버전)** - 약 1억 장 (모바일 버전 포함 시 더 높을 수 있으나 집계 방식에 따라 다름)\n",
      "4.  **Wii 스포츠 (Wii Sports)** - 약 8,290만 장\n",
      "5.  **PUBG: 배틀그라운드 (PUBG: BATTLEGROUNDS)** - 약 7,500만 장\n",
      "\n",
      "따라서 단일 게임으로는 **마인크래프트**가 명실상부한 역대 최고 판매량을 기록한 게임입니다.\n"
     ]
    }
   ],
   "source": [
    "from google import genai\n",
    "from google.genai import types\n",
    "\n",
    "client = genai.Client()\n",
    "\n",
    "response = client.models.generate_content(\n",
    "    model=\"gemini-2.5-pro\",\n",
    "    # contents=\"Provide a list of 3 famous physicists and their key contributions\",\n",
    "    contents=\"현재 가장 많이 팔린 게임은 무엇인가요?\",\n",
    "    config=types.GenerateContentConfig(\n",
    "        # 추론 단계에 쓸 수 있는 최대 토큰 수 제한\n",
    "        thinking_config=types.ThinkingConfig(thinking_budget=512)\n",
    "        # Turn off thinking:\n",
    "        # thinking_config=types.ThinkingConfig(thinking_budget=0)\n",
    "        # Turn on dynamic thinking:\n",
    "        # thinking_config=types.ThinkingConfig(thinking_budget=-1)\n",
    "    ),\n",
    ")\n",
    "\n",
    "print(response.text)"
   ]
  },
  {
   "cell_type": "code",
   "execution_count": 2,
   "id": "5076b786",
   "metadata": {},
   "outputs": [
    {
     "data": {
      "text/plain": [
       "848"
      ]
     },
     "execution_count": 2,
     "metadata": {},
     "output_type": "execute_result"
    }
   ],
   "source": [
    "response.usage_metadata.total_token_count"
   ]
  },
  {
   "cell_type": "code",
   "execution_count": null,
   "id": "746cc517",
   "metadata": {},
   "outputs": [
    {
     "name": "stdout",
     "output_type": "stream",
     "text": [
      "현재까지 가장 많이 팔린 게임은 **마인크래프트(Minecraft)** 입니다. \n",
      "\n",
      "2023년 기준으로 전 세계적으로 3억장 이상 판매된 것으로 알려져 있으며, 이 수치는 다른 어떤 게임보다 압도적으로 많습니다.\n"
     ]
    }
   ],
   "source": [
    "from google import genai\n",
    "from google.genai import types\n",
    "\n",
    "client = genai.Client()\n",
    "\n",
    "response = client.models.generate_content(\n",
    "    model=\"gemini-2.5-flash\",\n",
    "    # contents=\"Provide a list of 3 famous physicists and their key contributions\",\n",
    "    contents=\"현재 가장 많이 팔린 게임은 무엇인가요?\",\n",
    "    config=types.GenerateContentConfig(\n",
    "        # 추론 토큰 수 없이 사용\n",
    "        thinking_config=types.ThinkingConfig(thinking_budget=0)\n",
    "        # Turn off thinking:\n",
    "        # thinking_config=types.ThinkingConfig(thinking_budget=0)\n",
    "        # Turn on dynamic thinking:\n",
    "        # thinking_config=types.ThinkingConfig(thinking_budget=-1)\n",
    "    ),\n",
    ")\n",
    "\n",
    "print(response.text)"
   ]
  },
  {
   "cell_type": "code",
   "execution_count": 5,
   "id": "3ea4a472",
   "metadata": {},
   "outputs": [
    {
     "data": {
      "text/plain": [
       "67"
      ]
     },
     "execution_count": 5,
     "metadata": {},
     "output_type": "execute_result"
    }
   ],
   "source": [
    "response.usage_metadata.total_token_count"
   ]
  },
  {
   "cell_type": "code",
   "execution_count": null,
   "id": "ad8e615e",
   "metadata": {},
   "outputs": [
    {
     "name": "stdout",
     "output_type": "stream",
     "text": [
      "네, 물론입니다. 역사상 가장 유명한 물리학자 세 명과 그들의 주요 업적을 소개해 드리겠습니다.\n",
      "\n",
      "### 1. 아이작 뉴턴 (Isaac Newton, 1643-1727)\n",
      "\n",
      "고전 역학의 아버지로 불리며, 과학 혁명을 완성한 인물입니다. 그의 이론은 이후 수백 년간 과학 기술 발전의 근간이 되었습니다.\n",
      "\n",
      "**주요 업적:**\n",
      "\n",
      "*   **뉴턴의 운동 법칙 (Newton's Laws of Motion):** 관성의 법칙, 가속도의 법칙(F=ma), 작용-반작용의 법칙을 통해 모든 물체의 움직임을 수학적으로 완벽하게 설명했습니다.\n",
      "*   **만유인력의 법칙 (Law of Universal Gravitation):** 지상의 사과가 떨어지는 현상과 천체의 행성이 태양 주위를 도는 현상이 모두 '중력'이라는 동일한 힘에 의해 일어난다는 것을 증명했습니다.\n",
      "*   **미적분학 창시 (Invention of Calculus):** 변화하는 값들을 계산하고 운동을 수학적으로 기술하는 강력한 도구인 미적분학을 체계적으로 발전시켰습니다.\n",
      "\n",
      "---\n",
      "\n",
      "### 2. 알베르트 아인슈타인 (Albert Einstein, 1879-1955)\n",
      "\n",
      "20세기 최고의 과학자이자 현대 물리학의 패러다임을 바꾼 인물입니다. 그의 이름은 천재의 대명사처럼 사용됩니다.\n",
      "\n",
      "**주요 업적:**\n",
      "\n",
      "*   **상대성 이론 (Theory of Relativity):** 특수 상대성 이론과 일반 상대성 이론을 통해 시간, 공간, 질량, 에너지, 중력에 대한 기존의 관념을 완전히 뒤엎었습니다. 시간과 공간이 관찰자에 따라 상대적이며, 중력이 시공간의 휘어짐에 의해 발생한다는 것을 밝혔습니다.\n",
      "*   **질량-에너지 등가 원리 (E=mc²):** 세계에서 가장 유명한 이 방정식은 질량이 막대한 양의 에너지로 변환될 수 있음을 보여주었으며, 원자력 발전과 핵무기의 이론적 기초가 되었습니다.\n",
      "*   **광전효과 규명 (Explanation of the Photoelectric Effect):** 빛이 파동뿐만 아니라 입자(광자)의 성질도 가진다는 것을 증명하여 양자역학의 발전에 결정적인 기여를 했습니다. 이 업적으로 1921년 노벨 물리학상을 수상했습니다.\n",
      "\n",
      "---\n",
      "\n",
      "### 3. 마리 퀴리 (Marie Curie, 1867-1934)\n",
      "\n",
      "방사능 연구의 선구자이자, 역사상 가장 위대한 여성 과학자로 꼽힙니다. 그녀의 헌신과 업적은 과학계에 큰 족적을 남겼습니다.\n",
      "\n",
      "**주요 업적:**\n",
      "\n",
      "*   **방사능(Radioactivity) 연구:** '방사능'이라는 용어를 처음 만들었으며, 방사능이 원자 자체의 붕괴 현상에서 비롯된다는 것을 밝혀냈습니다.\n",
      "*   **새로운 원소 발견 (Discovery of New Elements):** 남편 피에르 퀴리와 함께 새로운 방사성 원소인 **폴로늄(Polonium)**과 **라듐(Radium)**을 발견했습니다.\n",
      "*   **노벨상 2회 수상 (Two-time Nobel Prize Laureate):** 1903년 물리학상(방사능 공동 연구)과 1911년 화학상(폴로늄 및 라듐 발견)을 수상하여, 서로 다른 두 과학 분야에서 노벨상을 받은 유일한 인물이 되었습니다.\n",
      "\n",
      "이 세 명의 과학자는 우리가 세상을 이해하는 방식을 근본적으로 바꾸었고, 현대 물리학의 기틀을 마련한 위대한 인물들입니다.\n"
     ]
    }
   ],
   "source": [
    "from google import genai\n",
    "from google.genai import types\n",
    "\n",
    "client = genai.Client()\n",
    "\n",
    "response = client.models.generate_content(\n",
    "    model=\"gemini-2.5-pro\",\n",
    "    # contents=\"Provide a list of 3 famous physicists and their key contributions\",\n",
    "    contents=\"유명한 물리학자 세 명과 그들의 주요 업적을 알려주세요.\",\n",
    "    config=types.GenerateContentConfig(\n",
    "        # 추론 토큰 제한 없이 사용\n",
    "        thinking_config=types.ThinkingConfig(thinking_budget=-1)\n",
    "        # Turn off thinking: (pro 모델의 경우 thinking_budget=0은 동작하지 않음)\n",
    "        # thinking_config=types.ThinkingConfig(thinking_budget=0)\n",
    "        # Turn on dynamic thinking:\n",
    "        # thinking_config=types.ThinkingConfig(thinking_budget=-1)\n",
    "    ),\n",
    ")\n",
    "\n",
    "print(response.text)"
   ]
  },
  {
   "cell_type": "code",
   "execution_count": 14,
   "id": "91339a95",
   "metadata": {},
   "outputs": [
    {
     "name": "stdout",
     "output_type": "stream",
     "text": [
      "네, 유명한 물리학자 세 분과 그분들의 주요 업적을 알려드리겠습니다.\n",
      "\n",
      "---\n",
      "\n",
      "### 1. **알베르트 아인슈타인 (Albert Einstein, 1879-1955)**\n",
      "\n",
      "*   **국적:** 독일 (후에 스위스, 미국)\n",
      "*   **주요 업적:**\n",
      "    *   **특수 상대성 이론 (Special Relativity, 1905):** 시간과 공간이 절대적인 것이 아니라 관찰자의 상대적인 움직임에 따라 달라진다는 이론입니다. 질량-에너지 등가원리인 유명한 공식 **E=mc²**을 포함하고 있습니다.\n",
      "    *   **일반 상대성 이론 (General Relativity, 1915):** 중력을 시공간의 휘어짐으로 설명한 이론입니다. 이는 뉴턴의 중력 이론을 확장하여 빛의 휘어짐, 수성 궤도의 미세한 변화, 블랙홀의 존재 등 다양한 현상을 예측했습니다.\n",
      "    *   **광전 효과 (Photoelectric Effect, 1905):** 빛이 파동뿐만 아니라 에너지 덩어리(광자)로도 작용한다는 것을 설명하여 양자역학의 발전에 크게 기여했습니다. 이 업적으로 1921년 노벨 물리학상을 수상했습니다.\n",
      "    *   **브라운 운동 (Brownian Motion, 1905):** 액체나 기체 속에서 미립자가 불규칙하게 움직이는 현상을 설명하여 원자와 분자의 존재를 간접적으로 증명하는 데 기여했습니다.\n",
      "\n",
      "### 2. **아이작 뉴턴 (Isaac Newton, 1642-1727)**\n",
      "\n",
      "*   **국적:** 영국\n",
      "*   **주요 업적:**\n",
      "    *   **만유인력의 법칙 (Law of Universal Gravitation):** 모든 질량을 가진 물체 사이에 인력이 작용하며, 그 크기는 질량에 비례하고 거리의 제곱에 반비례한다는 것을 발견했습니다. 이는 행성 운동, 조석 현상 등을 설명하는 데 성공했습니다.\n",
      "    *   **운동의 세 가지 법칙 (Newton's Laws of Motion):**\n",
      "        *   **관성의 법칙 (제1법칙):** 외부 힘이 작용하지 않는 한 물체는 현재의 운동 상태를 유지한다.\n",
      "        *   **가속도의 법칙 (제2법칙):** 물체의 가속도는 작용하는 힘에 비례하고 질량에 반비례한다 (F=ma).\n",
      "        *   **작용-반작용의 법칙 (제3법칙):** 모든 작용에는 크기가 같고 방향이 반대인 반작용이 존재한다.\n",
      "    *   **미적분학 (Calculus) 개발:** 라이프니츠와는 별개로 독립적으로 미적분학을 개발하여 물리학 문제를 수학적으로 다룰 수 있는 강력한 도구를 제공했습니다.\n",
      "    *   **광학 연구:** 백색광이 여러 색깔의 스펙트럼으로 분리될 수 있음을 프리즘 실험으로 증명하고, 망원경 개발에도 기여했습니다.\n",
      "\n",
      "### 3. **닐스 보어 (Niels Bohr, 1885-1962)**\n",
      "\n",
      "*   **국적:** 덴마크\n",
      "*   **주요 업적:**\n",
      "    *   **보어 원자 모형 (Bohr Model of the Atom, 1913):** 러더퍼드의 원자 모형의 문제점(전자가 에너지를 잃고 핵으로 떨어지는 현상)을 해결하기 위해, 전자가 특정한 '안정된 궤도'에서만 움직이며 에너지를 방출하지 않고, 궤도를 바꿀 때만 에너지를 흡수하거나 방출한다는 가설을 제시했습니다. 이는 원자의 스펙트럼 선을 설명하는 데 성공했습니다.\n",
      "    *   **상보성 원리 (Complementarity Principle):** 양자 역학에서 입자와 파동의 이중성을 설명하는 중요한 개념으로, 전자의 위치와 운동량처럼 동시에 정확히 측정될 수 없는 두 상보적인 성질이 함께 존재한다는 원리입니다.\n",
      "    *   **코펜하겐 해석 (Copenhagen Interpretation):** 베르너 하이젠베르크와 함께 양자 역학의 표준적인 해석을 정립했습니다. 이는 파동 함수의 확률적 본질과 관측 행위가 물리계에 미치는 영향을 강조합니다.\n",
      "    *   **원자 구조와 방출 스펙트럼에 대한 연구:** 이 업적으로 1922년 노벨 물리학상을 수상했습니다.\n",
      "\n",
      "---\n",
      "\n",
      "이 세 분의 물리학자는 각각 고전 역학, 상대성 이론, 그리고 양자 역학이라는 물리학의 거대한 패러다임을 혁신하며 현대 과학의 기초를 다졌습니다.\n"
     ]
    }
   ],
   "source": [
    "from google import genai\n",
    "from google.genai import types\n",
    "\n",
    "client = genai.Client()\n",
    "\n",
    "response = client.models.generate_content(\n",
    "    model=\"gemini-2.5-flash\",\n",
    "    # contents=\"Provide a list of 3 famous physicists and their key contributions\",\n",
    "    contents=\"유명한 물리학자 세 명과 그들의 주요 업적을 알려주세요.\",\n",
    "    config=types.GenerateContentConfig(\n",
    "        thinking_config=types.ThinkingConfig(thinking_budget=0)\n",
    "        # Turn off thinking:\n",
    "        # thinking_config=types.ThinkingConfig(thinking_budget=0)\n",
    "        # Turn on dynamic thinking:\n",
    "        # thinking_config=types.ThinkingConfig(thinking_budget=-1)\n",
    "    ),\n",
    ")\n",
    "\n",
    "print(response.text)"
   ]
  },
  {
   "cell_type": "code",
   "execution_count": 5,
   "id": "9335f6b3",
   "metadata": {},
   "outputs": [
    {
     "data": {
      "text/plain": [
       "GenerateContentResponse(\n",
       "  automatic_function_calling_history=[],\n",
       "  candidates=[\n",
       "    Candidate(\n",
       "      content=Content(\n",
       "        parts=[\n",
       "          Part(\n",
       "            text=\"\"\"네, 물론입니다. 역사상 가장 유명한 물리학자 세 명과 그들의 주요 업적을 소개해 드리겠습니다. 이들은 현대 물리학의 기틀을 마련한 인물들입니다.\n",
       "\n",
       "### 1. 아이작 뉴턴 (Isaac Newton, 1643-1727, 영국)\n",
       "\n",
       "**\"고전 물리학의 아버지\"**로 불리며, 그의 발견은 과학 혁명을 완성시켰다고 평가받습니다.\n",
       "\n",
       "*   **주요 업적:**\n",
       "    *   **만유인력의 법칙 (Law of Universal Gravitation):** 사과가 나무에서 떨어지는 것을 보고 영감을 얻었다는 일화로 유명합니다. 우주의 모든 물체가 서로를 끌어당기는 힘이 있다는 것을 수학적으로 증명했으며, 행성의 운동을 설명했습니다.\n",
       "    *   **운동의 3법칙 (Newton's Laws of Motion):** 관성의 법칙, 가속도의 법칙(F=ma), 작용-반작용의 법칙을 통해 물체의 운동을 체계적으로 설명했습니다. 이 법칙들은 현대 공학의 기초가 되었습니다.\n",
       "    *   **미적분학 발전 (Development of Calculus):** 행성의 궤도와 같은 복잡한 움직임을 계산하기 위해 미적분학을 체계화했습니다.\n",
       "    *   **광학 연구:** 빛이 단일한 색이 아니라 여러 색(스펙트럼)의 혼합체임을 프리즘 실험을 통해 증명했습니다.\n",
       "\n",
       "### 2. 알베르트 아인슈타인 (Albert Einstein, 1879-1955, 독일/미국)\n",
       "\n",
       "**\"현대 물리학의 상징\"**으로, 20세기 최고의 물리학자로 꼽힙니다. 그의 이론은 시간, 공간, 중력에 대한 우리의 이해를 완전히 바꾸었습니다.\n",
       "\n",
       "*   **주요 업적:**\n",
       "    *   **상대성 이론 (Theory of Relativity):**\n",
       "        *   **특수 상대성 이론 (1905):** 빛의 속도는 관찰자의 움직임과 관계없이 일정하며, 이로 인해 시간과 공간은 절대적인 것이 아니라 상대적이라는 개념을 제시했습니다.\n",
       "        *   **일반 상대성 이론 (1915):** 중력을 힘이 아니라 질량이 시공간을 휘게 만들기 때문에 발생하는 현상이라고 설명했습니다. 이 이론은 블랙홀의 존재와 중력 렌즈 효과 등을 예측했습니다.\n",
       "    *   **질량-에너지 등가 원리 (E=mc²):** 세계에서 가장 유명한 공식으로, 질량(m)이 엄청난 양의 에너지(E)로 변환될 수 있음을 보여주었습니다. 이는 원자력 발전과 핵무기의 이론적 기초가 되었습니다.\n",
       "    *   **광전 효과 규명 (Photoelectric Effect):** 빛이 입자(광자)의 성질을 가지고 있음을 설명하여 양자역학의 발전에 크게 기여했으며, 이 업적으로 1921년 노벨 물리학상을 수상했습니다.\n",
       "\n",
       "### 3. 마리 퀴리 (Marie Curie, 1867-1934, 폴란드/프랑스)\n",
       "\n",
       "**\"방사능 연구의 선구자\"**이자 역사상 가장 위대한 여성 과학자 중 한 명으로, 남성 중심의 과학계에서 놀라운 업적을 남겼습니다.\n",
       "\n",
       "*   **주요 업적:**\n",
       "    *   **방사능(Radioactivity) 연구:** '방사능'이라는 용어를 처음 만들었으며, 방사능이 원자 자체의 성질임을 밝혀냈습니다.\n",
       "    *   **새로운 원소 발견:** 남편 피에르 퀴리와 함께 방사성 원소인 **폴로늄(Polonium)**과 **라듐(Radium)**을 발견했습니다. 이는 원자핵 물리학의 새로운 시대를 열었습니다.\n",
       "    *   **노벨상 2회 수상:** 세계 최초로 노벨상을 두 번 수상했으며, 서로 다른 과학 분야(물리학상, 화학상)에서 수상한 유일한 인물입니다.\n",
       "        *   **1903년 노벨 물리학상:** 방사능 연구에 대한 공로 (피에르 퀴리, 앙리 베크렐과 공동 수상)\n",
       "        *   **1911년 노벨 화학상:** 폴로늄과 라듐 발견 및 순수 라듐 분리 공로\n",
       "\n",
       "이 세 과학자는 오늘날 우리가 아는 물리학의 기틀을 마련했으며, 그들의 발견은 여전히 우리 세상에 큰 영향을 미치고 있습니다.\"\"\"\n",
       "          ),\n",
       "        ],\n",
       "        role='model'\n",
       "      ),\n",
       "      finish_reason=<FinishReason.STOP: 'STOP'>,\n",
       "      index=0\n",
       "    ),\n",
       "  ],\n",
       "  model_version='gemini-2.5-pro',\n",
       "  response_id='fLuUaJO2DInVz7IPh9L6qAI',\n",
       "  sdk_http_response=HttpResponse(\n",
       "    headers=<dict len=11>\n",
       "  ),\n",
       "  usage_metadata=GenerateContentResponseUsageMetadata(\n",
       "    candidates_token_count=1002,\n",
       "    prompt_token_count=20,\n",
       "    prompt_tokens_details=[\n",
       "      ModalityTokenCount(\n",
       "        modality=<MediaModality.TEXT: 'TEXT'>,\n",
       "        token_count=20\n",
       "      ),\n",
       "    ],\n",
       "    thoughts_token_count=1541,\n",
       "    total_token_count=2563\n",
       "  )\n",
       ")"
      ]
     },
     "execution_count": 5,
     "metadata": {},
     "output_type": "execute_result"
    }
   ],
   "source": [
    "response"
   ]
  },
  {
   "cell_type": "markdown",
   "id": "9c4a29c8",
   "metadata": {},
   "source": [
    "### 토큰 사용량 확인하기"
   ]
  },
  {
   "cell_type": "code",
   "execution_count": 1,
   "id": "7f1dc7dc",
   "metadata": {},
   "outputs": [
    {
     "name": "stderr",
     "output_type": "stream",
     "text": [
      "Both GOOGLE_API_KEY and GEMINI_API_KEY are set. Using GOOGLE_API_KEY.\n"
     ]
    },
    {
     "name": "stdout",
     "output_type": "stream",
     "text": [
      "=== 생성된 텍스트 ===\n",
      "네, 가장 유명한 물리학자 세 명과 그들의 대표적인 업적을 한 가지씩 소개해 드리겠습니다.\n",
      "\n",
      "1.  **아이작 뉴턴 (Isaac Newton)**\n",
      "    *   **주요 업적: 만유인력의 법칙 (Law of Universal Gravitation)**\n",
      "        *   우주에 있는 모든 물체는 서로를 끌어당기는 힘(중력)이 있으며, 이 힘의 크기는 두 물체의 질량에 비례하고 거리의 제곱에 반비례한다는 것을 수학적으로 증명했습니다. 이는 사과가 땅에 떨어지는 이유와 행성이 태양 주위를 도는 이유를 같은 원리로 설명한 혁명적인 발견이었습니다.\n",
      "\n",
      "2.  **알베르트 아인슈타인 (Albert Einstein)**\n",
      "    *   **주요 업적: 상대성 이론 (Theory of Relativity)**\n",
      "        *   특히 그의 가장 유명한 공식인 **E=mc²** (질량-에너지 등가 원리)는 질량과 에너지가 서로 변환될 수 있는 본질적으로 같은 것임을 밝혔습니다. 이 아이디어는 시간, 공간, 중력에 대한 우리의 이해를 완전히 바꾸었고, 원자력 발전과 핵무기의 이론적 토대가 되었습니다.\n",
      "\n",
      "3.  **마리 퀴리 (Marie Curie)**\n",
      "    *   **주요 업적: 방사능 연구 및 새로운 원소 발견 (Research on Radioactivity and Discovery of New Elements)**\n",
      "        *   방사능(radioactivity)이라는 개념을 처음으로 정립했으며, 끈질긴 연구 끝에 남편 피에르 퀴리와 함께 새로운 방사성 원소인 **폴로늄(Polonium)과 라듐(Radium)**을 발견했습니다. 그녀는 노벨상을 두 번 수상한 최초의 인물이자, 서로 다른 과학 분야(물리학, 화학)에서 수상한 유일한 인물입니다.\n",
      "\n",
      "=== 토큰 사용량 정보 ===\n",
      "입력 토큰 수: 23\n",
      "생각 토큰 수: 741\n",
      "출력 토큰 수: 409\n",
      "전체 토큰 수: 1173\n"
     ]
    }
   ],
   "source": [
    "from google import genai\n",
    "from google.genai import types\n",
    "\n",
    "\n",
    "def print_gemini_token(response):\n",
    "    \"\"\"Gemini 응답의 토큰 사용량 정보를 출력하는 함수\"\"\"\n",
    "    print(\"=== 생성된 텍스트 ===\")\n",
    "    print(response.text)\n",
    "    print(\"\\n=== 토큰 사용량 정보 ===\")\n",
    "\n",
    "    # 토큰 사용량 확인\n",
    "    usage = response.usage_metadata\n",
    "    print(f\"입력 토큰 수: {usage.prompt_token_count}\")\n",
    "    print(f\"생각 토큰 수: {usage.thoughts_token_count}\")\n",
    "    print(f\"출력 토큰 수: {usage.candidates_token_count}\")\n",
    "    print(f\"전체 토큰 수: {usage.total_token_count}\")\n",
    "\n",
    "\n",
    "client = genai.Client()\n",
    "\n",
    "response = client.models.generate_content(\n",
    "    model=\"gemini-2.5-pro\",\n",
    "    contents=\"유명한 물리학자 세 명과 그들의 주요 업적을 하나씩만 알려주세요.\",\n",
    "    config=types.GenerateContentConfig(\n",
    "        thinking_config=types.ThinkingConfig(thinking_budget=1024)\n",
    "    ),\n",
    ")\n",
    "\n",
    "# 함수 사용\n",
    "print_gemini_token(response)"
   ]
  },
  {
   "cell_type": "code",
   "execution_count": null,
   "id": "e4e61c0f",
   "metadata": {},
   "outputs": [],
   "source": []
  }
 ],
 "metadata": {
  "kernelspec": {
   "display_name": "without",
   "language": "python",
   "name": "python3"
  },
  "language_info": {
   "codemirror_mode": {
    "name": "ipython",
    "version": 3
   },
   "file_extension": ".py",
   "mimetype": "text/x-python",
   "name": "python",
   "nbconvert_exporter": "python",
   "pygments_lexer": "ipython3",
   "version": "3.11.13"
  }
 },
 "nbformat": 4,
 "nbformat_minor": 5
}
