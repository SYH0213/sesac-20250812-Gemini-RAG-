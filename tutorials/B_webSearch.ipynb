{
 "cells": [
  {
   "cell_type": "code",
   "execution_count": 1,
   "id": "df8a31c2",
   "metadata": {},
   "outputs": [
    {
     "data": {
      "text/plain": [
       "True"
      ]
     },
     "execution_count": 1,
     "metadata": {},
     "output_type": "execute_result"
    }
   ],
   "source": [
    "from dotenv import load_dotenv\n",
    "\n",
    "load_dotenv()"
   ]
  },
  {
   "cell_type": "code",
   "execution_count": 2,
   "id": "dd5bc134",
   "metadata": {},
   "outputs": [
    {
     "name": "stdout",
     "output_type": "stream",
     "text": [
      "2025년 8월 12일, 방탄소년단(BTS)의 멤버 지민과 정국이 1년 6개월간의 군 복무를 마치고 육군 병장으로 만기 전역했습니다. 두 사람은 경기 연천군 제5보병사단 포병여단에서 전역식을 갖고 팬들과 만났습니다.\n",
      "\n",
      "지민은 \"코로나19부터 군대까지 꽤 긴 시간이었는데 기다려 주셔서 너무 감사하다\"며 \"더 좋은 모습을 준비해서 보여드리도록 하겠다\"고 전했습니다. 정국은 \"남은 후임과 조금 일찍 전역한 동기들이 저희랑 같이 생활하느라 고생 많으셨다\"고 소감을 밝혔습니다.\n",
      "\n",
      "두 멤버는 2023년 12월 육군 현역으로 동반 입대해 5사단 포병여단에서 각각 포수와 조리병으로 복무했습니다. 한편, 사회복무요원으로 복무 중인 슈가는 오는 21일 소집 해제를 앞두고 있습니다.\n",
      "\n",
      "([m.news.nate.com](https://m.news.nate.com/view/20250611n12088?utm_source=openai)) \n"
     ]
    }
   ],
   "source": [
    "from openai import OpenAI\n",
    "\n",
    "client = OpenAI()\n",
    "\n",
    "response = client.responses.create(\n",
    "    model=\"gpt-4o\",\n",
    "    tools=[{\"type\": \"web_search_preview\"}],\n",
    "    input=\"What was a positive news story from today? Please provide a summary of the article in korean.\",\n",
    ")\n",
    "\n",
    "print(response.output_text)"
   ]
  },
  {
   "cell_type": "code",
   "execution_count": 5,
   "id": "cb7304ee",
   "metadata": {},
   "outputs": [
    {
     "name": "stdout",
     "output_type": "stream",
     "text": [
      "최근 대한민국에서 일어난 긍정적인 뉴스들을 소개해 드리겠습니다.\n",
      "\n",
      "1. **배우 박보경, 드라마 '라이딩 인생' 종영 소감 전해**\n",
      "\n",
      "   배우 박보경은 드라마 '라이딩 인생'에서 대치동 대표 슈퍼맘 '송호경' 역을 맡아 열연하였습니다. 그녀는 종영 소감으로 \"우리의 아이들은 모두 특별하며, 부모인 저희들도 부족하지만 특별한 책임을 지닌 존재임을 깨닫게 해 준 드라마였다\"며 대한민국의 모든 부모님들과 아이들을 응원한다고 전했습니다. ([imnews.imbc.com](https://imnews.imbc.com/news/2025/enter/article/6699968_36758.html?utm_source=openai))\n",
      "\n",
      "2. **대구한의대학교 송미경 대표, 문화체육관광부장관상 수상**\n",
      "\n",
      "   대구한의대학교 일반대학원 치유과학과 박사과정에 재학 중인 송미경 대표(다미 푸드아트 연구소)는 제11회 한국식 문화세계화대축제의 K-FOOD 음식 분야에서 대상인 문화체육관광부장관상을 수상하였습니다. 이번 축제는 전국에서 실력 있는 참가자들이 모여 한식의 세계화를 위한 다양한 활동을 펼쳤습니다. ([alumni.dhu.ac.kr](https://alumni.dhu.ac.kr/pages/sub.htm?mv_data=c3RhcnRQYWdlPTUxMCZsaXN0Tm89NDA0MSZ0YWJsZT1jc19iYnNfZGF0YSZuYXZfY29kZT1kaHUxNTc0MzM1OTI5JmNvZGU9aG90bmV3cyZzZWFyY2hfaXRlbT0mc2VhcmNoX29yZGVyPSZvcmRlcl9saXN0PSZsaXN0X3NjYWxlPSZ2aWV3X2xldmVsPSZ2aWV3X2NhdGU9JnZpZXdfY2F0ZTI9%7C%7C&utm_source=openai))\n",
      "\n",
      "3. **'2024 대한민국 베스트 작가상' 대상에 서혁수 시인 선정**\n",
      "\n",
      "   한국문학세상은 '2024 대한민국 베스트 작가상' 대상에 서혁수 시인을 선정하였습니다. 서 시인은 시집 '준비하며 살다보면'을 통해 직장인으로서의 힘겨운 삶의 이야기를 진한 감동으로 엮어냈습니다. 본상에는 남도국 수필가와 송귀준 시인이 각각 선정되었습니다. ([sallimji.com](https://www.sallimji.com/news/264853?utm_source=openai))\n",
      "\n",
      "4. **'K-맨발걷기 페스티벌' 개최를 위한 업무협약 체결**\n",
      "\n",
      "   맨발걷기국민운동본부와 스포츠서울은 'K-맨발걷기 페스티벌' 개최를 위한 업무협약을 체결하였습니다. 이번 협약을 통해 맨발걷기의 건강 효과를 널리 알리고, 국민 건강 증진을 위한 다양한 활동을 함께 추진할 예정입니다. ([news.zum.com](https://news.zum.com/articles/88257554?utm_source=openai))\n",
      "\n",
      "5. **은평구, '2023 대한민국 식생활교육대상' 동상 수상**\n",
      "\n",
      "   은평구는 '2023 대한민국 식생활교육대상'에서 동상을 수상하였습니다. 은평구 어린이급식관리지원센터는 관내 어린이 급식소와 지역 주민을 대상으로 환경, 건강, 배려에 가치를 둔 식생활 교육을 지속적으로 지원한 점이 높이 평가되었습니다. ([teamblind.com](https://www.teamblind.com/kr/company/%EC%96%B4%EB%A6%B0%EC%9D%B4%EA%B8%89%EC%8B%9D%EA%B4%80%EB%A6%AC%EC%A7%80%EC%9B%90%EC%84%BC%ED%84%B0/news?page=21&utm_source=openai))\n",
      "\n",
      "이러한 소식들은 대한민국의 문화, 교육, 건강 분야에서 긍정적인 발전을 보여주고 있습니다. \n"
     ]
    }
   ],
   "source": [
    "from openai import OpenAI\n",
    "\n",
    "client = OpenAI()\n",
    "\n",
    "response = client.responses.create(\n",
    "    model=\"gpt-4o\",\n",
    "    tools=[{\"type\": \"web_search_preview\"}],\n",
    "    input=\"최근 일어난 대한민국의 긍정적인 뉴스 스토리를 알려주세요. 기사의 요약을 한국어로 제공해주세요.\",\n",
    ")\n",
    "\n",
    "print(response.output_text)"
   ]
  },
  {
   "cell_type": "code",
   "execution_count": 3,
   "id": "54743876",
   "metadata": {},
   "outputs": [
    {
     "data": {
      "text/plain": [
       "Response(id='resp_689acfe995d0819c81a01931b3243c700dbff1b2c3586215', created_at=1754976233.0, error=None, incomplete_details=None, instructions=None, metadata={}, model='gpt-4o-2024-08-06', object='response', output=[ResponseFunctionWebSearch(id='ws_689acfea6d94819ca207bb1e177069d50dbff1b2c3586215', action=ActionSearch(query='positive news October 9 2023', type='search'), status='completed', type='web_search_call'), ResponseOutputMessage(id='msg_689acfeddecc819c9e61f6ce280f46f20dbff1b2c3586215', content=[ResponseOutputText(annotations=[AnnotationURLCitation(end_index=459, start_index=377, title='방탄소년단 지민·정국 오늘 전역 \"더 좋은 모습 보여드릴 것\" : 네이트 뉴스', type='url_citation', url='https://m.news.nate.com/view/20250611n12088?utm_source=openai')], text='2025년 8월 12일, 방탄소년단(BTS)의 멤버 지민과 정국이 1년 6개월간의 군 복무를 마치고 육군 병장으로 만기 전역했습니다. 두 사람은 경기 연천군 제5보병사단 포병여단에서 전역식을 갖고 팬들과 만났습니다.\\n\\n지민은 \"코로나19부터 군대까지 꽤 긴 시간이었는데 기다려 주셔서 너무 감사하다\"며 \"더 좋은 모습을 준비해서 보여드리도록 하겠다\"고 전했습니다. 정국은 \"남은 후임과 조금 일찍 전역한 동기들이 저희랑 같이 생활하느라 고생 많으셨다\"고 소감을 밝혔습니다.\\n\\n두 멤버는 2023년 12월 육군 현역으로 동반 입대해 5사단 포병여단에서 각각 포수와 조리병으로 복무했습니다. 한편, 사회복무요원으로 복무 중인 슈가는 오는 21일 소집 해제를 앞두고 있습니다.\\n\\n([m.news.nate.com](https://m.news.nate.com/view/20250611n12088?utm_source=openai)) ', type='output_text', logprobs=[])], role='assistant', status='completed', type='message')], parallel_tool_calls=True, temperature=1.0, tool_choice='auto', tools=[WebSearchTool(type='web_search_preview', search_context_size='medium', user_location=UserLocation(type='approximate', city=None, country='US', region=None, timezone=None))], top_p=1.0, background=False, max_output_tokens=None, max_tool_calls=None, previous_response_id=None, prompt=None, prompt_cache_key=None, reasoning=Reasoning(effort=None, generate_summary=None, summary=None), safety_identifier=None, service_tier='default', status='completed', text=ResponseTextConfig(format=ResponseFormatText(type='text'), verbosity='medium'), top_logprobs=0, truncation='disabled', usage=ResponseUsage(input_tokens=320, input_tokens_details=InputTokensDetails(cached_tokens=0), output_tokens=284, output_tokens_details=OutputTokensDetails(reasoning_tokens=0), total_tokens=604), user=None, store=True)"
      ]
     },
     "execution_count": 3,
     "metadata": {},
     "output_type": "execute_result"
    }
   ],
   "source": [
    "response"
   ]
  },
  {
   "cell_type": "code",
   "execution_count": 4,
   "id": "4136332f",
   "metadata": {},
   "outputs": [
    {
     "name": "stdout",
     "output_type": "stream",
     "text": [
      "=== 토큰 사용량 정보 ===\n",
      "Input Tokens:320\n",
      "Output Tokens:284\n",
      "Total Tokens:604\n"
     ]
    }
   ],
   "source": [
    "# response usage에서 토큰 정보 출력\n",
    "\n",
    "print(\"=== 토큰 사용량 정보 ===\")\n",
    "\n",
    "# usage 속성 확인\n",
    "# usage = response.usage\n",
    "print(\"Input Tokens:{}\".format(response.usage.input_tokens))\n",
    "print(\"Output Tokens:{}\".format(response.usage.output_tokens))\n",
    "print(\"Total Tokens:{}\".format(response.usage.total_tokens))"
   ]
  },
  {
   "cell_type": "code",
   "execution_count": null,
   "id": "4c8018b2",
   "metadata": {},
   "outputs": [],
   "source": []
  }
 ],
 "metadata": {
  "kernelspec": {
   "display_name": "without",
   "language": "python",
   "name": "python3"
  },
  "language_info": {
   "codemirror_mode": {
    "name": "ipython",
    "version": 3
   },
   "file_extension": ".py",
   "mimetype": "text/x-python",
   "name": "python",
   "nbconvert_exporter": "python",
   "pygments_lexer": "ipython3",
   "version": "3.11.13"
  }
 },
 "nbformat": 4,
 "nbformat_minor": 5
}
