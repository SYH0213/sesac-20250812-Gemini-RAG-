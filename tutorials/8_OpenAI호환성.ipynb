{
 "cells": [
  {
   "cell_type": "markdown",
   "id": "84f7fcb6",
   "metadata": {},
   "source": [
    "### OpenAI QuickStart Example"
   ]
  },
  {
   "cell_type": "code",
   "execution_count": 5,
   "id": "e64c7189",
   "metadata": {},
   "outputs": [
    {
     "name": "stdout",
     "output_type": "stream",
     "text": [
      "Collecting openai\n",
      "  Downloading openai-1.99.8-py3-none-any.whl.metadata (29 kB)\n",
      "Requirement already satisfied: anyio<5,>=3.5.0 in c:\\users\\sba\\miniconda3\\envs\\without\\lib\\site-packages (from openai) (4.10.0)\n",
      "Collecting distro<2,>=1.7.0 (from openai)\n",
      "  Downloading distro-1.9.0-py3-none-any.whl.metadata (6.8 kB)\n",
      "Requirement already satisfied: httpx<1,>=0.23.0 in c:\\users\\sba\\miniconda3\\envs\\without\\lib\\site-packages (from openai) (0.28.1)\n",
      "Collecting jiter<1,>=0.4.0 (from openai)\n",
      "  Downloading jiter-0.10.0-cp311-cp311-win_amd64.whl.metadata (5.3 kB)\n",
      "Requirement already satisfied: pydantic<3,>=1.9.0 in c:\\users\\sba\\miniconda3\\envs\\without\\lib\\site-packages (from openai) (2.11.7)\n",
      "Requirement already satisfied: sniffio in c:\\users\\sba\\miniconda3\\envs\\without\\lib\\site-packages (from openai) (1.3.1)\n",
      "Collecting tqdm>4 (from openai)\n",
      "  Using cached tqdm-4.67.1-py3-none-any.whl.metadata (57 kB)\n",
      "Requirement already satisfied: typing-extensions<5,>=4.11 in c:\\users\\sba\\miniconda3\\envs\\without\\lib\\site-packages (from openai) (4.14.1)\n",
      "Requirement already satisfied: idna>=2.8 in c:\\users\\sba\\miniconda3\\envs\\without\\lib\\site-packages (from anyio<5,>=3.5.0->openai) (3.10)\n",
      "Requirement already satisfied: certifi in c:\\users\\sba\\miniconda3\\envs\\without\\lib\\site-packages (from httpx<1,>=0.23.0->openai) (2025.8.3)\n",
      "Requirement already satisfied: httpcore==1.* in c:\\users\\sba\\miniconda3\\envs\\without\\lib\\site-packages (from httpx<1,>=0.23.0->openai) (1.0.9)\n",
      "Requirement already satisfied: h11>=0.16 in c:\\users\\sba\\miniconda3\\envs\\without\\lib\\site-packages (from httpcore==1.*->httpx<1,>=0.23.0->openai) (0.16.0)\n",
      "Requirement already satisfied: annotated-types>=0.6.0 in c:\\users\\sba\\miniconda3\\envs\\without\\lib\\site-packages (from pydantic<3,>=1.9.0->openai) (0.7.0)\n",
      "Requirement already satisfied: pydantic-core==2.33.2 in c:\\users\\sba\\miniconda3\\envs\\without\\lib\\site-packages (from pydantic<3,>=1.9.0->openai) (2.33.2)\n",
      "Requirement already satisfied: typing-inspection>=0.4.0 in c:\\users\\sba\\miniconda3\\envs\\without\\lib\\site-packages (from pydantic<3,>=1.9.0->openai) (0.4.1)\n",
      "Requirement already satisfied: colorama in c:\\users\\sba\\miniconda3\\envs\\without\\lib\\site-packages (from tqdm>4->openai) (0.4.6)\n",
      "Downloading openai-1.99.8-py3-none-any.whl (786 kB)\n",
      "   ---------------------------------------- 0.0/786.8 kB ? eta -:--:--\n",
      "   ---------------------------------------- 786.8/786.8 kB 4.8 MB/s eta 0:00:00\n",
      "Downloading distro-1.9.0-py3-none-any.whl (20 kB)\n",
      "Downloading jiter-0.10.0-cp311-cp311-win_amd64.whl (209 kB)\n",
      "Using cached tqdm-4.67.1-py3-none-any.whl (78 kB)\n",
      "Installing collected packages: tqdm, jiter, distro, openai\n",
      "\n",
      "   ---------------------------------------- 0/4 [tqdm]\n",
      "   ------------------------------ --------- 3/4 [openai]\n",
      "   ------------------------------ --------- 3/4 [openai]\n",
      "   ------------------------------ --------- 3/4 [openai]\n",
      "   ------------------------------ --------- 3/4 [openai]\n",
      "   ------------------------------ --------- 3/4 [openai]\n",
      "   ------------------------------ --------- 3/4 [openai]\n",
      "   ------------------------------ --------- 3/4 [openai]\n",
      "   ------------------------------ --------- 3/4 [openai]\n",
      "   ------------------------------ --------- 3/4 [openai]\n",
      "   ---------------------------------------- 4/4 [openai]\n",
      "\n",
      "Successfully installed distro-1.9.0 jiter-0.10.0 openai-1.99.8 tqdm-4.67.1\n"
     ]
    }
   ],
   "source": [
    "!pip install openai"
   ]
  },
  {
   "cell_type": "code",
   "execution_count": 6,
   "id": "37a04353",
   "metadata": {},
   "outputs": [
    {
     "name": "stdout",
     "output_type": "stream",
     "text": [
      "별빛 아래에서 반짝이는 유니콘이 잠자리 친구들과 함께 숲속을 달리며, 환상적인 모험을 떠나는 이야기.\n"
     ]
    }
   ],
   "source": [
    "from openai import OpenAI\n",
    "\n",
    "# Initialize the OpenAI client\n",
    "# Make sure to set your OpenAI API key in the environment variable OPENAI_API_KEY\n",
    "client = OpenAI()\n",
    "\n",
    "response = client.chat.completions.create(\n",
    "    model=\"gpt-4o-mini\",\n",
    "    messages=[\n",
    "        {\n",
    "            \"role\": \"user\",\n",
    "            \"content\": \"유니콘에 대한 한 문장짜리 잠자리 이야기 작성해 주세요.\",\n",
    "        }\n",
    "    ],\n",
    ")\n",
    "\n",
    "print(response.choices[0].message.content)"
   ]
  },
  {
   "cell_type": "code",
   "execution_count": 11,
   "id": "57aef0af",
   "metadata": {},
   "outputs": [
    {
     "data": {
      "text/plain": [
       "ChatCompletion(id='chatcmpl-C3YszXiyulxSYJIJnY23SkXoEnxde', choices=[Choice(finish_reason='stop', index=0, logprobs=None, message=ChatCompletionMessage(content='별빛 아래에서 반짝이는 유니콘이 잠자리 친구들과 함께 숲속을 달리며, 환상적인 모험을 떠나는 이야기.', refusal=None, role='assistant', annotations=[], audio=None, function_call=None, tool_calls=None))], created=1754965121, model='gpt-4o-mini-2024-07-18', object='chat.completion', service_tier='default', system_fingerprint='fp_34a54ae93c', usage=CompletionUsage(completion_tokens=34, prompt_tokens=24, total_tokens=58, completion_tokens_details=CompletionTokensDetails(accepted_prediction_tokens=0, audio_tokens=0, reasoning_tokens=0, rejected_prediction_tokens=0), prompt_tokens_details=PromptTokensDetails(audio_tokens=0, cached_tokens=0)))"
      ]
     },
     "execution_count": 11,
     "metadata": {},
     "output_type": "execute_result"
    }
   ],
   "source": [
    "response"
   ]
  },
  {
   "cell_type": "markdown",
   "id": "14a98e97",
   "metadata": {},
   "source": [
    "### OpenAI 호환성"
   ]
  },
  {
   "cell_type": "code",
   "execution_count": 12,
   "id": "42ec005b",
   "metadata": {},
   "outputs": [],
   "source": [
    "import os\n",
    "\n",
    "api_key = os.getenv(\"GOOGLE_API_KEY\")"
   ]
  },
  {
   "cell_type": "code",
   "execution_count": 13,
   "id": "72c8f135",
   "metadata": {},
   "outputs": [
    {
     "name": "stdout",
     "output_type": "stream",
     "text": [
      "ChatCompletionMessage(content='That\\'s a fantastic question, and it\\'s less like magic and more like really sophisticated pattern recognition and problem-solving!\\n\\nAt its core, **AI works by enabling machines to learn from data, identify patterns, make decisions, or perform tasks that would typically require human intelligence.**\\n\\nLet\\'s break it down into the fundamental steps and concepts:\\n\\n---\\n\\n### The Core Idea: Learning from Data (Like a Child)\\n\\nImagine teaching a child what a \"cat\" is. You don\\'t give them a detailed rulebook (\"it has fur, four legs, whiskers, meows, etc.\"). Instead, you show them many pictures of cats, point them out, and say \"cat.\" You also show them pictures of dogs, birds, and cars, saying \"not a cat.\" Over time, the child learns to identify a cat on their own, even if it\\'s one they\\'ve never seen before.\\n\\nAI works in a very similar way:\\n\\n1.  **Data, Data, Data (The \"Experiences\"):**\\n    *   AI systems need **vast amounts of data** to learn from. This data can be images, text, numbers, audio, video, etc.\\n    *   For supervised learning (the most common type), this data is often **labeled**. For example, thousands of images labeled \"cat\" or thousands of customer service conversations labeled \"complaint.\" This labeled data is the \"teacher.\"\\n\\n2.  **The Algorithm (The \"Brain/Learning Rules\"):**\\n    *   This is the set of mathematical rules and procedures that the AI uses to process the data and learn.\\n    *   Different algorithms are suited for different tasks (e.g., recognizing images, understanding language, predicting stock prices).\\n    *   A common type of algorithm, especially in modern AI, involves **Neural Networks**, which are loosely inspired by the human brain\\'s structure, with interconnected \"neurons\" that process information.\\n\\n3.  **Training (The \"Learning Phase\"):**\\n    *   The AI algorithm is fed the large dataset. It \"studies\" this data, trying to find relationships, patterns, and features.\\n    *   For example, in image recognition, it might learn that certain combinations of lines and curves often represent an \"eye\" or an \"ear.\"\\n    *   During training, the system makes predictions, and then it compares its predictions to the actual labels (the \"correct answers\").\\n    *   If it\\'s wrong, it **adjusts its internal parameters** (like fine-tuning its \"understanding\") to minimize future errors. This process is repeated thousands or millions of times until the AI model becomes very good at its task. Think of it as practice makes perfect.\\n\\n4.  **The Model (The \"Learned Knowledge\"):**\\n    *   Once training is complete, the output is called an **AI Model**. This model is essentially the algorithm with all its learned patterns and adjusted parameters.\\n    *   It\\'s now \"smart\" enough to apply its knowledge to **new, unseen data.**\\n\\n5.  **Inference (Making Predictions/Decisions):**\\n    *   This is where the AI model is put to work. You give it new data (e.g., a photo it\\'s never seen before), and the model uses its learned patterns to make a prediction or decision (e.g., \"This is a cat!\").\\n    *   This is how your phone recognizes faces, how Netflix recommends movies, or how self-driving cars identify pedestrians.\\n\\n---\\n\\n### Key Branches and How They Work\\n\\nMost of what people refer to as \"AI\" today falls under the umbrella of **Machine Learning (ML)**.\\n\\n*   **Machine Learning (ML):**\\n    *   **How it works:** As described above, systems learn from data *without being explicitly programmed for every possible scenario*. They learn to identify patterns and make predictions.\\n    *   **Examples:** Spam filters, recommendation systems, fraud detection.\\n\\n*   **Deep Learning (DL):**\\n    *   **How it works:** A *subset* of Machine Learning that uses very large Neural Networks (often with many \"hidden layers,\" hence \"deep\"). These networks are particularly good at finding complex patterns in huge, unstructured datasets like images, audio, and text.\\n    *   **Why it\\'s powerful:** It can automatically learn features from raw data, whereas traditional ML often requires humans to hand-engineer features.\\n    *   **Examples:** Image recognition, natural language translation, speech recognition (Siri, Alexa), generating realistic images or text.\\n\\n*   **Natural Language Processing (NLP):**\\n    *   **How it works:** Focuses on enabling computers to understand, interpret, and generate human language. It uses ML and DL techniques to analyze syntax, semantics, and context.\\n    *   **Examples:** Chatbots, language translation (Google Translate), sentiment analysis (determining if text is positive or negative), text summarization.\\n\\n*   **Computer Vision (CV):**\\n    *   **How it works:** Enables computers to \"see\" and interpret visual information from images and videos. It uses ML and DL to identify objects, people, scenes, and actions.\\n    *   **Examples:** Facial recognition, self-driving cars, medical image analysis, quality control in manufacturing.\\n\\n---\\n\\n### Why is AI So Powerful Now?\\n\\n1.  **Vast Amounts of Data:** The internet, social media, and connected devices generate an unprecedented amount of data for AI to learn from.\\n2.  **Computational Power:** Modern computer processors (especially GPUs, originally designed for gaming graphics) are powerful enough to handle the massive calculations required for training complex AI models. Cloud computing makes this power accessible.\\n3.  **Advanced Algorithms:** Decades of research have led to sophisticated algorithms that are more efficient and effective at learning from data.\\n\\n---\\n\\nIn summary, AI isn\\'t a magical thinking machine (yet!). It\\'s a sophisticated system built on mathematics, statistics, and computer science that learns to recognize patterns and make decisions based on the data it\\'s trained on. It\\'s about identifying correlations and probabilities, not genuine understanding or consciousness.', refusal=None, role='assistant', annotations=None, audio=None, function_call=None, tool_calls=None)\n"
     ]
    }
   ],
   "source": [
    "from openai import OpenAI\n",
    "\n",
    "client = OpenAI(\n",
    "    api_key=api_key, base_url=\"https://generativelanguage.googleapis.com/v1beta/openai/\"\n",
    ")\n",
    "\n",
    "response = client.chat.completions.create(\n",
    "    model=\"gemini-2.5-flash\",\n",
    "    messages=[\n",
    "        {\"role\": \"system\", \"content\": \"You are a helpful assistant.\"},\n",
    "        {\"role\": \"user\", \"content\": \"Explain to me how AI works\"},\n",
    "    ],\n",
    ")\n",
    "\n",
    "print(response.choices[0].message)"
   ]
  },
  {
   "cell_type": "code",
   "execution_count": null,
   "id": "ec6d9f05",
   "metadata": {},
   "outputs": [
    {
     "name": "stdout",
     "output_type": "stream",
     "text": [
      "That's a fantastic question, and it's less like magic and more like really sophisticated pattern recognition and problem-solving!\n",
      "\n",
      "At its core, **AI works by enabling machines to learn from data, identify patterns, make decisions, or perform tasks that would typically require human intelligence.**\n",
      "\n",
      "Let's break it down into the fundamental steps and concepts:\n",
      "\n",
      "---\n",
      "\n",
      "### The Core Idea: Learning from Data (Like a Child)\n",
      "\n",
      "Imagine teaching a child what a \"cat\" is. You don't give them a detailed rulebook (\"it has fur, four legs, whiskers, meows, etc.\"). Instead, you show them many pictures of cats, point them out, and say \"cat.\" You also show them pictures of dogs, birds, and cars, saying \"not a cat.\" Over time, the child learns to identify a cat on their own, even if it's one they've never seen before.\n",
      "\n",
      "AI works in a very similar way:\n",
      "\n",
      "1.  **Data, Data, Data (The \"Experiences\"):**\n",
      "    *   AI systems need **vast amounts of data** to learn from. This data can be images, text, numbers, audio, video, etc.\n",
      "    *   For supervised learning (the most common type), this data is often **labeled**. For example, thousands of images labeled \"cat\" or thousands of customer service conversations labeled \"complaint.\" This labeled data is the \"teacher.\"\n",
      "\n",
      "2.  **The Algorithm (The \"Brain/Learning Rules\"):**\n",
      "    *   This is the set of mathematical rules and procedures that the AI uses to process the data and learn.\n",
      "    *   Different algorithms are suited for different tasks (e.g., recognizing images, understanding language, predicting stock prices).\n",
      "    *   A common type of algorithm, especially in modern AI, involves **Neural Networks**, which are loosely inspired by the human brain's structure, with interconnected \"neurons\" that process information.\n",
      "\n",
      "3.  **Training (The \"Learning Phase\"):**\n",
      "    *   The AI algorithm is fed the large dataset. It \"studies\" this data, trying to find relationships, patterns, and features.\n",
      "    *   For example, in image recognition, it might learn that certain combinations of lines and curves often represent an \"eye\" or an \"ear.\"\n",
      "    *   During training, the system makes predictions, and then it compares its predictions to the actual labels (the \"correct answers\").\n",
      "    *   If it's wrong, it **adjusts its internal parameters** (like fine-tuning its \"understanding\") to minimize future errors. This process is repeated thousands or millions of times until the AI model becomes very good at its task. Think of it as practice makes perfect.\n",
      "\n",
      "4.  **The Model (The \"Learned Knowledge\"):**\n",
      "    *   Once training is complete, the output is called an **AI Model**. This model is essentially the algorithm with all its learned patterns and adjusted parameters.\n",
      "    *   It's now \"smart\" enough to apply its knowledge to **new, unseen data.**\n",
      "\n",
      "5.  **Inference (Making Predictions/Decisions):**\n",
      "    *   This is where the AI model is put to work. You give it new data (e.g., a photo it's never seen before), and the model uses its learned patterns to make a prediction or decision (e.g., \"This is a cat!\").\n",
      "    *   This is how your phone recognizes faces, how Netflix recommends movies, or how self-driving cars identify pedestrians.\n",
      "\n",
      "---\n",
      "\n",
      "### Key Branches and How They Work\n",
      "\n",
      "Most of what people refer to as \"AI\" today falls under the umbrella of **Machine Learning (ML)**.\n",
      "\n",
      "*   **Machine Learning (ML):**\n",
      "    *   **How it works:** As described above, systems learn from data *without being explicitly programmed for every possible scenario*. They learn to identify patterns and make predictions.\n",
      "    *   **Examples:** Spam filters, recommendation systems, fraud detection.\n",
      "\n",
      "*   **Deep Learning (DL):**\n",
      "    *   **How it works:** A *subset* of Machine Learning that uses very large Neural Networks (often with many \"hidden layers,\" hence \"deep\"). These networks are particularly good at finding complex patterns in huge, unstructured datasets like images, audio, and text.\n",
      "    *   **Why it's powerful:** It can automatically learn features from raw data, whereas traditional ML often requires humans to hand-engineer features.\n",
      "    *   **Examples:** Image recognition, natural language translation, speech recognition (Siri, Alexa), generating realistic images or text.\n",
      "\n",
      "*   **Natural Language Processing (NLP):**\n",
      "    *   **How it works:** Focuses on enabling computers to understand, interpret, and generate human language. It uses ML and DL techniques to analyze syntax, semantics, and context.\n",
      "    *   **Examples:** Chatbots, language translation (Google Translate), sentiment analysis (determining if text is positive or negative), text summarization.\n",
      "\n",
      "*   **Computer Vision (CV):**\n",
      "    *   **How it works:** Enables computers to \"see\" and interpret visual information from images and videos. It uses ML and DL to identify objects, people, scenes, and actions.\n",
      "    *   **Examples:** Facial recognition, self-driving cars, medical image analysis, quality control in manufacturing.\n",
      "\n",
      "---\n",
      "\n",
      "### Why is AI So Powerful Now?\n",
      "\n",
      "1.  **Vast Amounts of Data:** The internet, social media, and connected devices generate an unprecedented amount of data for AI to learn from.\n",
      "2.  **Computational Power:** Modern computer processors (especially GPUs, originally designed for gaming graphics) are powerful enough to handle the massive calculations required for training complex AI models. Cloud computing makes this power accessible.\n",
      "3.  **Advanced Algorithms:** Decades of research have led to sophisticated algorithms that are more efficient and effective at learning from data.\n",
      "\n",
      "---\n",
      "\n",
      "In summary, AI isn't a magical thinking machine (yet!). It's a sophisticated system built on mathematics, statistics, and computer science that learns to recognize patterns and make decisions based on the data it's trained on. It's about identifying correlations and probabilities, not genuine understanding or consciousness.\n"
     ]
    }
   ],
   "source": [
    "print(response.choices[0].message.content)"
   ]
  },
  {
   "cell_type": "code",
   "execution_count": 20,
   "id": "3ed94a0b",
   "metadata": {},
   "outputs": [
    {
     "data": {
      "text/plain": [
       "2677"
      ]
     },
     "execution_count": 20,
     "metadata": {},
     "output_type": "execute_result"
    }
   ],
   "source": [
    "response.usage.total_tokens"
   ]
  }
 ],
 "metadata": {
  "kernelspec": {
   "display_name": "without",
   "language": "python",
   "name": "python3"
  },
  "language_info": {
   "codemirror_mode": {
    "name": "ipython",
    "version": 3
   },
   "file_extension": ".py",
   "mimetype": "text/x-python",
   "name": "python",
   "nbconvert_exporter": "python",
   "pygments_lexer": "ipython3",
   "version": "3.11.13"
  }
 },
 "nbformat": 4,
 "nbformat_minor": 5
}
